{
 "cells": [
  {
   "cell_type": "code",
   "execution_count": 15,
   "id": "79822436-80c1-4b50-bf97-fd81372b9fae",
   "metadata": {},
   "outputs": [
    {
     "data": {
      "text/plain": [
       "('C:\\\\Users\\\\k3265\\\\OneDrive\\\\Genetics\\\\nchc_script', '')"
      ]
     },
     "execution_count": 15,
     "metadata": {},
     "output_type": "execute_result"
    }
   ],
   "source": [
    "#!/usr/bin/python\n",
    "#coding:utf-8\n",
    "import os\n",
    "import sys\n",
    "\n",
    "#==========================================================#\n",
    "path = os.path.split(os.path.realpath('__file__'))[0]\n",
    "#==========================================================#\n",
    "#dirs (檔案名稱含副檔名)\n",
    "dirs = os.listdir( path )\n",
    "os.path.splitext(path)"
   ]
  },
  {
   "cell_type": "code",
   "execution_count": null,
   "id": "9b9c3f39-2cf4-44d8-a4f5-1785b0672dd6",
   "metadata": {},
   "outputs": [],
   "source": [
    "#將dirs中只含有nucleotide_composition.txt 檔案\n",
    "dirName =[]\n",
    "for i in dirs:\n",
    "    if i.find(\"nucleotide_composition.txt\") == -1:\n",
    "        continue\n",
    "    else:\n",
    "        dirName.append(i)\n",
    "\n",
    "#dirName2 (去除檔案副檔名)\n",
    "#dirName3 (**nucleotide_composition.txt  只留下前面 sample name)\n",
    "#dirName4 (去除相同 sample name)\n",
    "dirName2=[]\n",
    "\n",
    "for i in dirName:\n",
    "    a=os.path.splitext(i)[0]\n",
    "    \n",
    "    dirName2.append(a)\n",
    "    \n",
    "\n",
    "for j in dirName2:\n",
    "    file1 = open(path+'/'+j+'.txt',\"r\",encoding = 'utf-8')\n",
    "    \n",
    "    file2 = open(path+'/'+j+\"_rearrangment.txt\",\"w\",encoding = 'utf-8')\n",
    "    file2.write(\"chr\"+\"\\t\"+\"position\"+\"\\t\"+\"nucleotide\"+\"\\t\"+\"total_count\"+\"\\t\"+\"A\"+\"\\t\"+\"C\"+\"\\t\"+\"G\"+\"\\t\"+\"T\"+\"\\t\"+\"N\"+\"\\t\"+\"\\n\")\n",
    "\n",
    "    for i in file1.readlines():\n",
    "        new_rearrange = []\n",
    "        old_data_list = i.strip().split(\"\\t\")\n",
    "        new_rearrange.append(old_data_list[0])\n",
    "        new_rearrange.append(old_data_list[1])\n",
    "        new_rearrange.append(old_data_list[2])\n",
    "        new_rearrange.append(old_data_list[3])\n",
    "        A_count_list = old_data_list[5].strip().split(\":\")\n",
    "        A_count = str(A_count_list[1])\n",
    "        new_rearrange.append(A_count)\n",
    "        C_count_list = old_data_list[6].strip().split(\":\")\n",
    "        C_count = str(C_count_list[1])\n",
    "        new_rearrange.append(C_count)\n",
    "        G_count_list = old_data_list[7].strip().split(\":\")\n",
    "        G_count = str(G_count_list[1])\n",
    "        new_rearrange.append(G_count)\n",
    "        T_count_list = old_data_list[8].strip().split(\":\")\n",
    "        T_count = str(T_count_list[1])\n",
    "        new_rearrange.append(T_count)\n",
    "        N_count_list = old_data_list[9].strip().split(\":\")\n",
    "        N_count = str(N_count_list[1])\n",
    "        new_rearrange.append(N_count)\n",
    "        write_file_data = \"\\t\".join(new_rearrange)\n",
    "        file2.write(write_file_data+\"\\n\")\n",
    "    file1.close()\n",
    "    file2.close()\n",
    "\n",
    "print(\"done\")"
   ]
  }
 ],
 "metadata": {
  "kernelspec": {
   "display_name": "Python 3 (ipykernel)",
   "language": "python",
   "name": "python3"
  },
  "language_info": {
   "codemirror_mode": {
    "name": "ipython",
    "version": 3
   },
   "file_extension": ".py",
   "mimetype": "text/x-python",
   "name": "python",
   "nbconvert_exporter": "python",
   "pygments_lexer": "ipython3",
   "version": "3.9.12"
  }
 },
 "nbformat": 4,
 "nbformat_minor": 5
}
